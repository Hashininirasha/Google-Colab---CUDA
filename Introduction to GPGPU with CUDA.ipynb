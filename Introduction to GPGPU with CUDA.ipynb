{
  "nbformat": 4,
  "nbformat_minor": 0,
  "metadata": {
    "colab": {
      "name": "Demo1.ipynb",
      "provenance": [],
      "collapsed_sections": []
    },
    "kernelspec": {
      "name": "python3",
      "display_name": "Python 3"
    },
    "language_info": {
      "name": "python"
    },
    "accelerator": "GPU"
  },
  "cells": [
    {
      "cell_type": "markdown",
      "source": [
        "# Installation "
      ],
      "metadata": {
        "id": "3liZZsCnKtY6"
      }
    },
    {
      "cell_type": "code",
      "execution_count": null,
      "metadata": {
        "id": "75v9TFBVYzTF"
      },
      "outputs": [],
      "source": [
        "!apt-get --purge remove cuda nvidia* libnvidia-*\n",
        "!dpkg -l | grep cuda- | awk '{print $2}' | xargs -n1 dpkg --purge\n",
        "!apt-get remove cuda-*\n",
        "!apt autoremove\n",
        "!apt-get update"
      ]
    },
    {
      "cell_type": "code",
      "source": [
        "!wget https://developer.nvidia.com/compute/cuda/9.2/Prod/local_installers/cuda-repo-ubuntu1604-9-2-local_9.2.88-1_amd64 -O cuda-repo-ubuntu1604-9-2-local_9.2.88-1_amd64.deb\n",
        "!dpkg -i cuda-repo-ubuntu1604-9-2-local_9.2.88-1_amd64.deb\n",
        "!apt-key add /var/cuda-repo-9-2-local/7fa2af80.pub\n",
        "!apt-get update\n",
        "!apt-get install cuda-9.2"
      ],
      "metadata": {
        "id": "T8qWiVtOZlKa"
      },
      "execution_count": null,
      "outputs": []
    },
    {
      "cell_type": "code",
      "source": [
        "!nvcc --version"
      ],
      "metadata": {
        "id": "hsUAZ-3Bc3Il"
      },
      "execution_count": null,
      "outputs": []
    },
    {
      "cell_type": "code",
      "source": [
        "!pip install git+git://github.com/andreinechaev/nvcc4jupyter.git"
      ],
      "metadata": {
        "id": "Y0XPiFfRc_k4"
      },
      "execution_count": null,
      "outputs": []
    },
    {
      "cell_type": "code",
      "source": [
        "%load_ext nvcc_plugin"
      ],
      "metadata": {
        "colab": {
          "base_uri": "https://localhost:8080/"
        },
        "id": "smQBcLLbdEFx",
        "outputId": "e23a4277-e29d-494e-b074-8c984ce812c2"
      },
      "execution_count": null,
      "outputs": [
        {
          "output_type": "stream",
          "name": "stdout",
          "text": [
            "created output directory at /content/src\n",
            "Out bin /content/result.out\n"
          ]
        }
      ]
    },
    {
      "cell_type": "markdown",
      "source": [
        "-----------------------------"
      ],
      "metadata": {
        "id": "2xknjT17qmN6"
      }
    },
    {
      "cell_type": "markdown",
      "source": [
        "-------------------------------------------------------------------------\n"
      ],
      "metadata": {
        "id": "DeG7ospXqmiF"
      }
    },
    {
      "cell_type": "markdown",
      "source": [
        "# 1. Create the program using kernels"
      ],
      "metadata": {
        "id": "BbEm6VhHqmqz"
      }
    },
    {
      "cell_type": "code",
      "source": [
        "%%cu\n",
        "#include <iostream>\n",
        "\n",
        "\n",
        "int main(){\n",
        "    printf(\"Hello Google Colab!!\");\n",
        "    return 0;\n",
        "}"
      ],
      "metadata": {
        "id": "YAVK9SgPdHEe",
        "colab": {
          "base_uri": "https://localhost:8080/"
        },
        "outputId": "1add1fff-9eae-4e82-eab6-d16e5c510464"
      },
      "execution_count": null,
      "outputs": [
        {
          "output_type": "stream",
          "name": "stdout",
          "text": [
            "Hello Google Colab!!\n"
          ]
        }
      ]
    },
    {
      "cell_type": "code",
      "source": [
        "%%cu\n",
        "#include \"cuda_runtime.h\"\n",
        "#include \"device_launch_parameters.h\"\n",
        "#include <stdio.h>\n",
        "#include <stdlib.h>\n",
        "#include <iostream>\n",
        "\n",
        "__global__ void hello() {\n",
        "       printf(\"Hii from GPU\\n\");\n",
        "\n",
        "}\n",
        "\n",
        "int main() {\n",
        "    \n",
        "    hello <<<2, 10>>>();\n",
        "    cudaDeviceSynchronize();\n",
        "\n",
        "    cudaDeviceReset();\n",
        " \n",
        "\n",
        "    return 0;\n",
        "\n",
        "}"
      ],
      "metadata": {
        "id": "uwt-Gx8VeK6d"
      },
      "execution_count": null,
      "outputs": []
    },
    {
      "cell_type": "code",
      "source": [
        "%%cu\n",
        "\n",
        "#include <iostream>\n",
        "\n",
        "__global__ void hello() {\n",
        "       printf(\"Hii\\n\");\n",
        "\n",
        "}\n",
        "\n",
        "int main() {\n",
        "    \n",
        "    hello <<<1, 10>>>();\n",
        "    cudaDeviceSynchronize();\n",
        "\n",
        "    cudaDeviceReset();\n",
        " \n",
        "\n",
        "    return 0;\n",
        "\n",
        "}"
      ],
      "metadata": {
        "id": "oPv0qlNy81rc"
      },
      "execution_count": null,
      "outputs": []
    },
    {
      "cell_type": "code",
      "source": [
        "%%cu\n",
        "\n",
        "#include <iostream>\n",
        "\n",
        "__global__ void hello() {\n",
        "       printf(\"Hii\\n\");\n",
        "\n",
        "}\n",
        "\n",
        "int main() {\n",
        "  \n",
        "\n",
        "    \n",
        "    hello <<<4, 8>>>();\n",
        "    cudaDeviceSynchronize();\n",
        "\n",
        "    cudaDeviceReset();\n",
        " \n",
        "\n",
        "    return 0;\n",
        "\n",
        "}"
      ],
      "metadata": {
        "id": "O5H7o64J-Bqv"
      },
      "execution_count": null,
      "outputs": []
    },
    {
      "cell_type": "markdown",
      "source": [
        "# 2. Determine how many parallel cuda threads are required."
      ],
      "metadata": {
        "id": "0QJHieLGKkn8"
      }
    },
    {
      "cell_type": "markdown",
      "source": [
        "# Launch Hii from GPU with One Dimensional grid"
      ],
      "metadata": {
        "id": "MPv5uBgAuGzS"
      }
    },
    {
      "cell_type": "markdown",
      "source": [
        "Arrange a one dimensional grid with **64 threads** in **16 threads blocks** where each block having **4 threads**"
      ],
      "metadata": {
        "id": "BIht_oIcRIvS"
      }
    },
    {
      "cell_type": "markdown",
      "source": [
        "![Add a subheading.png](data:image/png;base64,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)"
      ],
      "metadata": {
        "id": "5Jlk-osIQ_Wz"
      }
    },
    {
      "cell_type": "markdown",
      "source": [
        "\n",
        "```\n",
        " kernel_name <<<grid,block>>>();\n",
        " kernel_name<<<number_of_blocks,threads_per_block>>>();\n",
        " ```"
      ],
      "metadata": {
        "id": "XtV43ehvv_Gi"
      }
    },
    {
      "cell_type": "code",
      "source": [
        "%%cu\n",
        "\n",
        "#include <iostream>\n",
        "\n",
        "__global__ void hello() {\n",
        "       printf(\"Hii from Gpu\\n\");\n",
        "\n",
        "}\n",
        "\n",
        "int main() {\n",
        "   \n",
        "   \n",
        "    hello <<<16, 4>>>();\n",
        "    cudaDeviceSynchronize();\n",
        "\n",
        "    cudaDeviceReset();\n",
        " \n",
        "\n",
        "    return 0;\n",
        "\n",
        "}"
      ],
      "metadata": {
        "id": "QtV8bCKCQeFm"
      },
      "execution_count": null,
      "outputs": []
    },
    {
      "cell_type": "markdown",
      "source": [
        "```\n",
        " dim3 block(4,1,1);\n",
        "```\n",
        "\n",
        "\n",
        "```\n",
        " dim3 grid(16,1,1);\n",
        "```\n",
        "```\n",
        " kernel_name <<<grid,block>>>();\n",
        " kernel_name<<<number_of_blocks,threads_per_block>>>();\n",
        "```\n",
        "\n"
      ],
      "metadata": {
        "id": "5q6UYQAlLYDH"
      }
    },
    {
      "cell_type": "code",
      "source": [
        "%%cu\n",
        "\n",
        "#include <iostream>\n",
        "\n",
        "__global__ void hello() {\n",
        "       printf(\"Hii\\n\");\n",
        "\n",
        "}\n",
        "\n",
        "int main() {\n",
        "    \n",
        "    dim3 block(4);\n",
        "    dim3 grid(16);\n",
        "   \n",
        "   \n",
        "    hello <<<grid, block>>>();\n",
        "    cudaDeviceSynchronize();\n",
        "\n",
        "    cudaDeviceReset();\n",
        " \n",
        "\n",
        "    return 0;\n",
        "\n",
        "}"
      ],
      "metadata": {
        "id": "ZHdx5mguVbvi"
      },
      "execution_count": null,
      "outputs": []
    },
    {
      "cell_type": "markdown",
      "source": [
        "\n",
        "\n",
        "\n",
        "\n",
        "# Launch Hii from GPU with Two Dimensional grid"
      ],
      "metadata": {
        "id": "LWvvGGo5h6eP"
      }
    },
    {
      "cell_type": "markdown",
      "source": [
        "Arrange a two dimensional grid with 32 threads into 16 threads in X dimension 2 threads in Y dimensions"
      ],
      "metadata": {
        "id": "JcGgaZ_AiJ2W"
      }
    },
    {
      "cell_type": "markdown",
      "source": [
        "![Add a subheading (2).png](data:image/png;base64,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)"
      ],
      "metadata": {
        "id": "ezucd0fHjSrk"
      }
    },
    {
      "cell_type": "markdown",
      "source": [
        "```\n",
        " dim3 block(8,2,1);\n",
        "```\n",
        "\n",
        "\n",
        "```\n",
        " dim3 grid(2,1,1);\n",
        "```\n",
        "```\n",
        " kernel_name <<<grid,block>>>();\n",
        " kernel_name<<<number_of_blocks,threads_per_block>>>();\n",
        " ```"
      ],
      "metadata": {
        "id": "pakMZTfEv2RZ"
      }
    },
    {
      "cell_type": "code",
      "source": [
        "%%cu\n",
        "\n",
        "#include <iostream>\n",
        "\n",
        "__global__ void hello() {\n",
        "       printf(\"Hii from GPU\\n\");\n",
        "\n",
        "}\n",
        "\n",
        "int main() {\n",
        "    \n",
        "    dim3 block(8,2,1);\n",
        "    dim3 grid(2,1,1);\n",
        "   \n",
        "   \n",
        "    hello <<<grid, block>>>();\n",
        "    cudaDeviceSynchronize();\n",
        "\n",
        "    cudaDeviceReset();\n",
        " \n",
        "\n",
        "    return 0;\n",
        "\n",
        "}"
      ],
      "metadata": {
        "id": "LauqbyV_obin"
      },
      "execution_count": null,
      "outputs": []
    },
    {
      "cell_type": "code",
      "source": [
        "%%cu\n",
        "\n",
        "#include <iostream>\n",
        "\n",
        "__global__ void hello() {\n",
        "       printf(\"Hii from GPU\\n\");\n",
        "\n",
        "}\n",
        "\n",
        "int main() {\n",
        "    \n",
        "    int nx = 16;\n",
        "    int ny = 2;\n",
        "    \n",
        "    dim3 block(8, 2, 1);\n",
        "    dim3 grid(nx/block.x, ny/block.y,1);\n",
        "   \n",
        "   \n",
        "    hello <<<grid, block>>>();\n",
        "    cudaDeviceSynchronize();\n",
        "\n",
        "    cudaDeviceReset();\n",
        " \n",
        "\n",
        "    return 0;\n",
        "\n",
        "}"
      ],
      "metadata": {
        "id": "kKfW38-9pK19"
      },
      "execution_count": null,
      "outputs": []
    },
    {
      "cell_type": "markdown",
      "source": [
        "# 3. Use the GPU to allocate memory.\n",
        "\n"
      ],
      "metadata": {
        "id": "O6tXAs8EKXMf"
      }
    },
    {
      "cell_type": "markdown",
      "source": [
        "> `int main (void){`\n",
        "\n",
        "*Declare variables*\n",
        "> `int *a, *b;`\n",
        "\n",
        "*Allocate memory on the device*\n",
        "> `cudaMalloc( (void**)b, sizeof(int));`\n",
        "\n",
        "*Allocate memory on the device*\n",
        "> `cudaMemcpy(b, a, sizeof(int), cudaMemcpyHostToDevice);`\n",
        "\n",
        "*Configuration parameters*\n",
        "> `dim3 grid_size(1);`\n",
        "> `dim3 block_size(1);`\n",
        "\n",
        "*Lanuch the kernel*\n",
        "> `kernel <<<grid_size,block_size>>>(...);`\n",
        "\n",
        "*Copy data back to the host*\n",
        "> `cudaMemcpy(a, b, sizeof(int), cudaMemcpyDeviceToHost);`\n",
        "\n",
        "*deallocate memory*\n",
        "\n",
        "> `cudaFree(b), free(a),`\n",
        "\n",
        "> `return 0;`\n",
        "\n",
        "> `}`\n",
        "\n",
        "\n",
        "\n",
        "\n",
        "\n",
        "\n"
      ],
      "metadata": {
        "id": "7X5uQ9gX2bX-"
      }
    },
    {
      "cell_type": "code",
      "source": [
        "%%cu\n",
        "\n",
        "#include <iostream>\n",
        "\n",
        "__global__ void summation (int *num1, int *num2, int *Summation){\n",
        "  *Summation = *num1 * *num2;\n",
        "\t\n",
        "}\n",
        "\n",
        "int main(){\n",
        "    \n",
        "  int x, y, sum;\n",
        "\tint *DN1, *DN2, *DSum;\n",
        "\n",
        "\tint size = sizeof(int);\n",
        "\n",
        "\t// allocate device memory\n",
        "\tcudaMalloc((void **)&DN1, size);\n",
        "\tcudaMalloc((void **)&DN2, size);\n",
        "\tcudaMalloc((void **)&DSum, size);\n",
        "\n",
        "\tx = 5;\n",
        "\ty = 2;\n",
        "\n",
        "\t//copy from host memory to device memory\n",
        "\tcudaMemcpy(DN1, &x, size, cudaMemcpyHostToDevice);\n",
        "\tcudaMemcpy(DN2, &y, size, cudaMemcpyHostToDevice);\n",
        "\n",
        "\n",
        "\tdim3 block(2, 2);\n",
        "\tdim3 grid(4,2);\n",
        "\n",
        "\tsummation << <block, grid >> > (DN1, DN2, DSum);\n",
        "\n",
        "\tcudaMemcpy(&sum, DSum, size, cudaMemcpyDeviceToHost);\n",
        "\n",
        "\tprintf(\"5 x 2 = %d\\n\", sum);\n",
        "\tcudaFree(DN1);\n",
        "\tcudaFree(DN2);\n",
        "\tcudaFree(DSum);\n",
        "\n",
        "\treturn 0;\n",
        "\n",
        "  cudaDeviceSynchronize();\n",
        " \n",
        "  \n",
        "}"
      ],
      "metadata": {
        "colab": {
          "base_uri": "https://localhost:8080/"
        },
        "id": "1dgUHIiy1pxY",
        "outputId": "03a45d87-be28-442d-c800-6ff9de938003"
      },
      "execution_count": null,
      "outputs": [
        {
          "output_type": "stream",
          "name": "stdout",
          "text": [
            "5 x 2 = 10\n",
            "\n"
          ]
        }
      ]
    }
  ]
}